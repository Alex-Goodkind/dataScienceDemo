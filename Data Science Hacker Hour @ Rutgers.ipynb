{
 "cells": [
  {
   "cell_type": "markdown",
   "metadata": {},
   "source": [
    "# Install Plotly.JS\n",
    "Use `pip` to install Plotly.JS\n",
    "\n",
    "In Jupyter you can run shell commands by appending the command with `!`"
   ]
  },
  {
   "cell_type": "code",
   "execution_count": 1,
   "metadata": {
    "collapsed": true
   },
   "outputs": [
    {
     "name": "stdout",
     "output_type": "stream",
     "text": [
      "Requirement already satisfied: plotly in /Users/Alex/anaconda3/lib/python3.6/site-packages (2.5.1)\n",
      "Requirement already satisfied: requests in /Users/Alex/anaconda3/lib/python3.6/site-packages (from plotly) (2.18.4)\n",
      "Requirement already satisfied: decorator>=4.0.6 in /Users/Alex/anaconda3/lib/python3.6/site-packages (from plotly) (4.2.1)\n",
      "Requirement already satisfied: pytz in /Users/Alex/anaconda3/lib/python3.6/site-packages (from plotly) (2017.3)\n",
      "Requirement already satisfied: nbformat>=4.2 in /Users/Alex/anaconda3/lib/python3.6/site-packages (from plotly) (4.4.0)\n",
      "Requirement already satisfied: six in /Users/Alex/anaconda3/lib/python3.6/site-packages (from plotly) (1.11.0)\n",
      "Requirement already satisfied: chardet<3.1.0,>=3.0.2 in /Users/Alex/anaconda3/lib/python3.6/site-packages (from requests->plotly) (3.0.4)\n",
      "Requirement already satisfied: idna<2.7,>=2.5 in /Users/Alex/anaconda3/lib/python3.6/site-packages (from requests->plotly) (2.6)\n",
      "Requirement already satisfied: urllib3<1.23,>=1.21.1 in /Users/Alex/anaconda3/lib/python3.6/site-packages (from requests->plotly) (1.22)\n",
      "Requirement already satisfied: certifi>=2017.4.17 in /Users/Alex/anaconda3/lib/python3.6/site-packages (from requests->plotly) (2018.4.16)\n",
      "Requirement already satisfied: ipython_genutils in /Users/Alex/anaconda3/lib/python3.6/site-packages (from nbformat>=4.2->plotly) (0.2.0)\n",
      "Requirement already satisfied: traitlets>=4.1 in /Users/Alex/anaconda3/lib/python3.6/site-packages (from nbformat>=4.2->plotly) (4.3.2)\n",
      "Requirement already satisfied: jsonschema!=2.5.0,>=2.4 in /Users/Alex/anaconda3/lib/python3.6/site-packages (from nbformat>=4.2->plotly) (2.6.0)\n",
      "Requirement already satisfied: jupyter_core in /Users/Alex/anaconda3/lib/python3.6/site-packages (from nbformat>=4.2->plotly) (4.4.0)\n",
      "\u001b[33mYou are using pip version 18.0, however version 18.1 is available.\n",
      "You should consider upgrading via the 'pip install --upgrade pip' command.\u001b[0m\n"
     ]
    }
   ],
   "source": [
    "!pip install plotly"
   ]
  },
  {
   "cell_type": "code",
   "execution_count": null,
   "metadata": {},
   "outputs": [],
   "source": []
  }
 ],
 "metadata": {
  "kernelspec": {
   "display_name": "Python 3",
   "language": "python",
   "name": "python3"
  },
  "language_info": {
   "codemirror_mode": {
    "name": "ipython",
    "version": 3
   },
   "file_extension": ".py",
   "mimetype": "text/x-python",
   "name": "python",
   "nbconvert_exporter": "python",
   "pygments_lexer": "ipython3",
   "version": "3.6.4"
  }
 },
 "nbformat": 4,
 "nbformat_minor": 2
}
